{
 "cells": [
  {
   "cell_type": "code",
   "execution_count": 121,
   "id": "0d94e649",
   "metadata": {},
   "outputs": [],
   "source": [
    "import numpy as np\n",
    "import pandas as pd\n",
    "import matplotlib.pyplot as plt \n",
    "import collections\n",
    "from collections import Counter \n",
    "from matplotlib.backends.backend_pdf import PdfPages\n"
   ]
  },
  {
   "cell_type": "code",
   "execution_count": 122,
   "id": "03043d05",
   "metadata": {},
   "outputs": [
    {
     "name": "stdout",
     "output_type": "stream",
     "text": [
      "<class 'pandas.core.frame.DataFrame'>\n",
      "RangeIndex: 25 entries, 0 to 24\n",
      "Data columns (total 8 columns):\n",
      " #   Column  Non-Null Count  Dtype \n",
      "---  ------  --------------  ----- \n",
      " 0   Q1      25 non-null     int64 \n",
      " 1   Q2      25 non-null     int64 \n",
      " 2   Q3      25 non-null     object\n",
      " 3   Q4      25 non-null     int64 \n",
      " 4   Q5      25 non-null     object\n",
      " 5   Q6      25 non-null     bool  \n",
      " 6   Q7      25 non-null     int64 \n",
      " 7   Q8      25 non-null     int64 \n",
      "dtypes: bool(1), int64(5), object(2)\n",
      "memory usage: 1.5+ KB\n"
     ]
    }
   ],
   "source": [
    "file_path = \"/Users/kjams/Desktop/projects/hci_m_project/suvery_one.csv\"\n",
    "df = pd.read_csv(file_path)\n",
    "df = df.drop('response', axis=1)\n",
    "df.info()"
   ]
  },
  {
   "cell_type": "code",
   "execution_count": 123,
   "id": "08dda675",
   "metadata": {},
   "outputs": [
    {
     "data": {
      "text/html": [
       "<div>\n",
       "<style scoped>\n",
       "    .dataframe tbody tr th:only-of-type {\n",
       "        vertical-align: middle;\n",
       "    }\n",
       "\n",
       "    .dataframe tbody tr th {\n",
       "        vertical-align: top;\n",
       "    }\n",
       "\n",
       "    .dataframe thead th {\n",
       "        text-align: right;\n",
       "    }\n",
       "</style>\n",
       "<table border=\"1\" class=\"dataframe\">\n",
       "  <thead>\n",
       "    <tr style=\"text-align: right;\">\n",
       "      <th></th>\n",
       "      <th>Q1</th>\n",
       "      <th>Q2</th>\n",
       "      <th>Q3</th>\n",
       "      <th>Q4</th>\n",
       "      <th>Q5</th>\n",
       "      <th>Q6</th>\n",
       "      <th>Q7</th>\n",
       "      <th>Q8</th>\n",
       "    </tr>\n",
       "  </thead>\n",
       "  <tbody>\n",
       "    <tr>\n",
       "      <th>0</th>\n",
       "      <td>2</td>\n",
       "      <td>3</td>\n",
       "      <td>1-5 mins</td>\n",
       "      <td>4</td>\n",
       "      <td>1</td>\n",
       "      <td>0</td>\n",
       "      <td>4</td>\n",
       "      <td>4</td>\n",
       "    </tr>\n",
       "    <tr>\n",
       "      <th>1</th>\n",
       "      <td>1</td>\n",
       "      <td>3</td>\n",
       "      <td>1-5 mins</td>\n",
       "      <td>3</td>\n",
       "      <td>1</td>\n",
       "      <td>0</td>\n",
       "      <td>3</td>\n",
       "      <td>3</td>\n",
       "    </tr>\n",
       "    <tr>\n",
       "      <th>2</th>\n",
       "      <td>1</td>\n",
       "      <td>3</td>\n",
       "      <td>1-5 mins</td>\n",
       "      <td>3</td>\n",
       "      <td>1</td>\n",
       "      <td>0</td>\n",
       "      <td>3</td>\n",
       "      <td>3</td>\n",
       "    </tr>\n",
       "    <tr>\n",
       "      <th>3</th>\n",
       "      <td>4</td>\n",
       "      <td>4</td>\n",
       "      <td>1-5 mins</td>\n",
       "      <td>3</td>\n",
       "      <td>0</td>\n",
       "      <td>0</td>\n",
       "      <td>3</td>\n",
       "      <td>3</td>\n",
       "    </tr>\n",
       "    <tr>\n",
       "      <th>4</th>\n",
       "      <td>2</td>\n",
       "      <td>4</td>\n",
       "      <td>1-5 mins</td>\n",
       "      <td>5</td>\n",
       "      <td>1</td>\n",
       "      <td>0</td>\n",
       "      <td>5</td>\n",
       "      <td>5</td>\n",
       "    </tr>\n",
       "  </tbody>\n",
       "</table>\n",
       "</div>"
      ],
      "text/plain": [
       "   Q1  Q2        Q3  Q4  Q5  Q6  Q7  Q8\n",
       "0   2   3  1-5 mins   4   1   0   4   4\n",
       "1   1   3  1-5 mins   3   1   0   3   3\n",
       "2   1   3  1-5 mins   3   1   0   3   3\n",
       "3   4   4  1-5 mins   3   0   0   3   3\n",
       "4   2   4  1-5 mins   5   1   0   5   5"
      ]
     },
     "execution_count": 123,
     "metadata": {},
     "output_type": "execute_result"
    }
   ],
   "source": [
    "df['Q5'] = np.where(df['Q5'] == 'ED', 0, 1)\n",
    "df['Q6'] = np.where(df['Q5'] == 'False', 1, 0)\n",
    "df.head()"
   ]
  },
  {
   "cell_type": "code",
   "execution_count": 124,
   "id": "18200b93",
   "metadata": {},
   "outputs": [],
   "source": [
    "class Latern:\n",
    "    \n",
    "    def __init__(self,df,path='my_pandas_plots.pdf'):\n",
    "        self.df = df\n",
    "        self.prob_vectors = []\n",
    "        self.cols_dict = []\n",
    "        self.pdf_pages = PdfPages(path)\n",
    "\n",
    "        self.questions = [\n",
    "            'Use of JW',\n",
    "            'Understands my prompts',\n",
    "            'Weekly Use',\n",
    "            'Comfort of Use',\n",
    "            'Watson Entry Point',\n",
    "            'First Use',\n",
    "            'Trust',\n",
    "            'Expectations Meet'\n",
    "        ]\n",
    "    \n",
    "        self.scatter_plots()\n",
    "        self.p_of_k()\n",
    "        \n",
    "    def scatter_plots(self):\n",
    "        cnt = 0\n",
    "        for col in self.df.columns:\n",
    "            plt.figure(figsize=(5, 5))\n",
    "            col_dict = Counter(self.df[col])\n",
    "            self.cols_dict.append(col_dict)\n",
    "            x,y = zip(*col_dict.items())\n",
    "            plt.scatter(x,y)\n",
    "            plt.title('Distribution of ' + self.questions[cnt])\n",
    "            plt.show()\n",
    "            cnt += 1\n",
    "            pdf_pages.savefig(plt.plot(), bbox_inches='tight')\n",
    "\n",
    "            \n",
    "    def p_of_k(self):\n",
    "        cnt = 0\n",
    "        for col in self.cols_dict:\n",
    "            x,y = zip(*sorted(col.items()))\n",
    "            try:\n",
    "                n = np.sum(y)\n",
    "            except TypeError:\n",
    "                continue\n",
    "            plt.figure(figsize=(5, 5))\n",
    "            prob_vector = [val/n for val in y]\n",
    "            plt.scatter(x,prob_vector)\n",
    "            plt.title(\"P(k)\" + self.questions[cnt])\n",
    "            plt.show()\n",
    "            cnt += 1\n",
    "\n",
    "        \n",
    "            \n",
    "            "
   ]
  },
  {
   "cell_type": "code",
   "execution_count": 120,
   "id": "69877c9a",
   "metadata": {},
   "outputs": [
    {
     "data": {
      "image/png": "[encoded data removed]",
      "text/plain": [
       "<Figure size 500x500 with 1 Axes>"
      ]
     },
     "metadata": {},
     "output_type": "display_data"
    },
    {
     "ename": "NameError",
     "evalue": "name 'pdf_pages' is not defined",
     "output_type": "error",
     "traceback": [
      "\u001b[0;31m---------------------------------------------------------------------------\u001b[0m",
      "\u001b[0;31mNameError\u001b[0m                                 Traceback (most recent call last)",
      "\u001b[0;32m/var/folders/px/rn3ttr855cb9h3ppww7dmvf40000gn/T/ipykernel_24922/2610602673.py\u001b[0m in \u001b[0;36m<module>\u001b[0;34m\u001b[0m\n\u001b[0;32m----> 1\u001b[0;31m \u001b[0mv1\u001b[0m \u001b[0;34m=\u001b[0m \u001b[0mLatern\u001b[0m\u001b[0;34m(\u001b[0m\u001b[0mdf\u001b[0m\u001b[0;34m)\u001b[0m\u001b[0;34m\u001b[0m\u001b[0;34m\u001b[0m\u001b[0m\n\u001b[0m",
      "\u001b[0;32m/var/folders/px/rn3ttr855cb9h3ppww7dmvf40000gn/T/ipykernel_24922/2564201609.py\u001b[0m in \u001b[0;36m__init__\u001b[0;34m(self, df, path)\u001b[0m\n\u001b[1;32m     18\u001b[0m         ]\n\u001b[1;32m     19\u001b[0m \u001b[0;34m\u001b[0m\u001b[0m\n\u001b[0;32m---> 20\u001b[0;31m         \u001b[0mself\u001b[0m\u001b[0;34m.\u001b[0m\u001b[0mscatter_plots\u001b[0m\u001b[0;34m(\u001b[0m\u001b[0;34m)\u001b[0m\u001b[0;34m\u001b[0m\u001b[0;34m\u001b[0m\u001b[0m\n\u001b[0m\u001b[1;32m     21\u001b[0m         \u001b[0mself\u001b[0m\u001b[0;34m.\u001b[0m\u001b[0mp_of_k\u001b[0m\u001b[0;34m(\u001b[0m\u001b[0;34m)\u001b[0m\u001b[0;34m\u001b[0m\u001b[0;34m\u001b[0m\u001b[0m\n\u001b[1;32m     22\u001b[0m \u001b[0;34m\u001b[0m\u001b[0m\n",
      "\u001b[0;32m/var/folders/px/rn3ttr855cb9h3ppww7dmvf40000gn/T/ipykernel_24922/2564201609.py\u001b[0m in \u001b[0;36mscatter_plots\u001b[0;34m(self)\u001b[0m\n\u001b[1;32m     32\u001b[0m             \u001b[0mplt\u001b[0m\u001b[0;34m.\u001b[0m\u001b[0mshow\u001b[0m\u001b[0;34m(\u001b[0m\u001b[0;34m)\u001b[0m\u001b[0;34m\u001b[0m\u001b[0;34m\u001b[0m\u001b[0m\n\u001b[1;32m     33\u001b[0m             \u001b[0mcnt\u001b[0m \u001b[0;34m+=\u001b[0m \u001b[0;36m1\u001b[0m\u001b[0;34m\u001b[0m\u001b[0;34m\u001b[0m\u001b[0m\n\u001b[0;32m---> 34\u001b[0;31m             \u001b[0mpdf_pages\u001b[0m\u001b[0;34m.\u001b[0m\u001b[0msavefig\u001b[0m\u001b[0;34m(\u001b[0m\u001b[0mplt\u001b[0m\u001b[0;34m.\u001b[0m\u001b[0mplot\u001b[0m\u001b[0;34m(\u001b[0m\u001b[0;34m)\u001b[0m\u001b[0;34m,\u001b[0m \u001b[0mbbox_inches\u001b[0m\u001b[0;34m=\u001b[0m\u001b[0;34m'tight'\u001b[0m\u001b[0;34m)\u001b[0m\u001b[0;34m\u001b[0m\u001b[0;34m\u001b[0m\u001b[0m\n\u001b[0m\u001b[1;32m     35\u001b[0m \u001b[0;34m\u001b[0m\u001b[0m\n\u001b[1;32m     36\u001b[0m \u001b[0;34m\u001b[0m\u001b[0m\n",
      "\u001b[0;31mNameError\u001b[0m: name 'pdf_pages' is not defined"
     ]
    }
   ],
   "source": [
    "v1 = Latern(df)\n"
   ]
  },
  {
   "cell_type": "code",
   "execution_count": 55,
   "id": "807cd5e7",
   "metadata": {},
   "outputs": [],
   "source": []
  },
  {
   "cell_type": "code",
   "execution_count": null,
   "id": "ea6be660",
   "metadata": {},
   "outputs": [],
   "source": []
  }
 ],
 "metadata": {
  "kernelspec": {
   "display_name": "Python 3 (ipykernel)",
   "language": "python",
   "name": "python3"
  },
  "language_info": {
   "codemirror_mode": {
    "name": "ipython",
    "version": 3
   },
   "file_extension": ".py",
   "mimetype": "text/x-python",
   "name": "python",
   "nbconvert_exporter": "python",
   "pygments_lexer": "ipython3",
   "version": "3.9.13"
  }
 },
 "nbformat": 4,
 "nbformat_minor": 5
}
